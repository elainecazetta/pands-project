{
 "cells": [
  {
   "cell_type": "markdown",
   "id": "b0778d29",
   "metadata": {},
   "source": [
    "# Higher Diploma in Science in Computing (Data Analytics)\n",
    "\n",
    "**Module:** Programming and Scripting  \n",
    "**Lecturer:** Andrew Beatty  \n",
    "**Author:** Elaine R. Cazetta  \n",
    "\n",
    "---  "
   ]
  },
  {
   "cell_type": "markdown",
   "id": "1e97743b",
   "metadata": {},
   "source": [
    "## Project: Iris Dataset Analysis\n",
    "\n",
    "[1]  \n",
    "![Iris Flowers](https://miro.medium.com/v2/resize:fit:720/format:webp/0*11IwZmSKXw77eYz5)  \n",
    "\n",
    "---  "
   ]
  },
  {
   "cell_type": "markdown",
   "id": "5ad2de7a",
   "metadata": {},
   "source": [
    "### About the project: \n",
    "\n",
    "This project was developed as part of the *Programming and Scripting* module. It aims to analize the famous [Fisher's Iris Dataset](https://archive.ics.uci.edu/dataset/53/iris) [2], apply basic data processing and visualization techniques, and present meaningful insights using Python.\n",
    "\n",
    "The project requirements are as follows:\n",
    "\n",
    "1. Research the dataset online and write a summary about it in a README file.\n",
    "2. Download the dataset and add it to a GitHub repository.\n",
    "3. Write a program called 'analysis.py' that:\n",
    "   - Outputs a summary of each variable to a single text file,\n",
    "   - Saves a histogram of each variable as a PNG file, and\n",
    "   - Outputs a scatter plot of each pair of variables.\n",
    "4. Perform any other appropriate analysis, including the creation of a Jupyter Notebook.\n",
    "\n",
    "The analysis performed in this notebook was created to meet the project requirements. It reproduces the same analysis done in the [analysis.py](https://github.com/elainecazetta/pands-project/blob/main/analysis.py) file, with additional insights in accordance with item 4 above.\n",
    "\n",
    "\n",
    "---  \n"
   ]
  },
  {
   "cell_type": "markdown",
   "id": "6832ab27",
   "metadata": {},
   "source": [
    "### About the dataset:\n",
    "\n",
    "The [Iris dataset](https://doi.org/10.24432/C56C76) was introduced in 1936 by British statistician and biologist Ronald A. Fisher [4]. It's one of the most well-known datasets in the field of data science and is often used for learning and testing classification techniques. What makes it so popular is that it's small, clean, and easy to visualize — perfect for beginners exploring data analysis and machine learning [3].\n",
    "\n",
    "The dataset includes 150 entries, each representing a type of iris flower. For each sample, four features were recorded in centimeters [2]:\n",
    "\n",
    "- *Sepal length*\n",
    "- *Sepal width*\n",
    "- *Petal length*\n",
    "- *Petal width*\n",
    "\n",
    "These measurements are used to identify the species of each flower. The dataset covers three distinct iris species:\n",
    "\n",
    "- *Iris Setosa*  \n",
    "- *Iris Versicolor*   \n",
    "- *Iris Virginica* \n",
    "\n",
    "The clear structure and balanced number of samples per class (50 of each) make this dataset especially useful for practicing supervised learning models like classification and clustering, and it's a common choice for visual demonstrations in data exploration. \n",
    "\n",
    "\n",
    "---  \n"
   ]
  },
  {
   "cell_type": "markdown",
   "id": "48999545",
   "metadata": {},
   "source": [
    "### Libraries:\n",
    "\n",
    "The following libraries are required to run the code in this notebook:   \n",
    "\n",
    "- [pandas](https://pandas.pydata.org/) – for data manipulation and analysis [5]  \n",
    "- [numpy](https://numpy.org/) – for numerical operations and working with arrays [6]   \n",
    "- [matplotlib](https://matplotlib.org/) – for creating basic data visualizations such as histograms and scatter plots [7]   \n",
    "- [scikit-learn](https://scikit-learn.org/stable/) – provides access to the Iris dataset [8]   "
   ]
  },
  {
   "cell_type": "code",
   "execution_count": 2,
   "id": "c3ce47e6",
   "metadata": {},
   "outputs": [],
   "source": [
    "# Imports:\n",
    "import pandas as pd\n",
    "import numpy as np\n",
    "import matplotlib.pyplot as plt\n",
    "from sklearn.datasets import load_iris"
   ]
  },
  {
   "cell_type": "markdown",
   "id": "633bfce2",
   "metadata": {},
   "source": [
    "\n",
    "--- "
   ]
  },
  {
   "cell_type": "markdown",
   "id": "7b084e36",
   "metadata": {},
   "source": [
    "### Loading the dataset:\n",
    "\n",
    "The bit *iris = load_iris()* loads the Iris dataset from *sklearn* library [8] to this notebook. "
   ]
  },
  {
   "cell_type": "code",
   "execution_count": 3,
   "id": "509dcd31",
   "metadata": {},
   "outputs": [],
   "source": [
    "# Load the Iris dataset from sklearn\n",
    "iris = load_iris()\n",
    "\n",
    "# Create a pandas dataframe with the feature data\n",
    "df = pd.DataFrame(data=iris.data, columns=iris.feature_names)\n",
    "\n",
    "# Add a 'species' column to identify each row\n",
    "df['species'] = iris.target"
   ]
  },
  {
   "cell_type": "markdown",
   "id": "90755b80",
   "metadata": {},
   "source": [
    "\n",
    "---  "
   ]
  },
  {
   "cell_type": "markdown",
   "id": "9f4f07ed",
   "metadata": {},
   "source": [
    "### Analyzing the dataset:\n",
    "\n",
    "---  "
   ]
  },
  {
   "cell_type": "markdown",
   "id": "91a55e80",
   "metadata": {},
   "source": [
    "### Data Visualization:\n",
    "\n",
    "---  "
   ]
  },
  {
   "cell_type": "markdown",
   "id": "9a2f3fa4",
   "metadata": {},
   "source": [
    "### References:  \n",
    "[1] Image, credits: medium.com. Available in: https://3tw.medium.com/scikit-learn-the-iris-dataset-and-machine-learning-the-journey-to-a-new-skill-c8d2f537e087 [Accessed 06 May 2025]  \n",
    "[2] R. Fisher. Iris, UCI Machine Learning Repository, 1936. Available in: https://doi.org/10.24432/C56C76. [Accessed 04 May 2025]  \n",
    "[3] Kelleher, Curran. The Iris Dataset Explained. Available in: https://gist.github.com/curran/a08a1080b88344b0c8a7. [Accessed 05 May 2025]  \n",
    "[4] Iris Flower data set - Wikipedia. Available in: https://en.wikipedia.org/wiki/Iris_flower_data_set. [Accessed 06 May 2025]  \n",
    "[5] pandas. Available in: https://pandas.pydata.org/ [Accessed 08 May 2025]  \n",
    "[6] NumPy. Available in: https://numpy.org/ [Accessed 08 May 2025]  \n",
    "[7] Matplotlib. Available in: https://matplotlib.org/ [Accessed 08 May 2025]  \n",
    "[8] scikit-learn. Available in: https://scikit-learn.org/stable/ [Accessed 06 May 2025]  \n",
    "\n",
    "---  "
   ]
  },
  {
   "cell_type": "markdown",
   "id": "ff51b485",
   "metadata": {},
   "source": [
    "## End\n",
    "\n",
    "---  "
   ]
  }
 ],
 "metadata": {
  "kernelspec": {
   "display_name": "Python 3",
   "language": "python",
   "name": "python3"
  },
  "language_info": {
   "codemirror_mode": {
    "name": "ipython",
    "version": 3
   },
   "file_extension": ".py",
   "mimetype": "text/x-python",
   "name": "python",
   "nbconvert_exporter": "python",
   "pygments_lexer": "ipython3",
   "version": "3.12.1"
  }
 },
 "nbformat": 4,
 "nbformat_minor": 5
}
