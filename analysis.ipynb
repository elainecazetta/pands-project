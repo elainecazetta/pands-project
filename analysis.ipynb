{
 "cells": [
  {
   "cell_type": "markdown",
   "id": "b0778d29",
   "metadata": {},
   "source": [
    "# Higher Diploma in Science in Computing (Data Analytics)\n",
    "\n",
    "**Module:** Programming and Scripting  \n",
    "**Lecturer:** Andrew Beatty  \n",
    "**Author:** Elaine R. Cazetta"
   ]
  },
  {
   "cell_type": "markdown",
   "id": "1e97743b",
   "metadata": {},
   "source": [
    "## Project: Iris Dataset Analysis\n",
    "\n",
    "![Iris Flowers](https://miro.medium.com/v2/resize:fit:720/format:webp/0*11IwZmSKXw77eYz5)\n"
   ]
  },
  {
   "cell_type": "markdown",
   "id": "5ad2de7a",
   "metadata": {},
   "source": [
    "### About the project: "
   ]
  },
  {
   "cell_type": "markdown",
   "id": "6832ab27",
   "metadata": {},
   "source": [
    "### About the dataset:"
   ]
  },
  {
   "cell_type": "markdown",
   "id": "48999545",
   "metadata": {},
   "source": [
    "### Libraries:"
   ]
  },
  {
   "cell_type": "markdown",
   "id": "7b084e36",
   "metadata": {},
   "source": [
    "### Loading the dataset:"
   ]
  },
  {
   "cell_type": "markdown",
   "id": "9f4f07ed",
   "metadata": {},
   "source": [
    "### Analyzing the dataset:"
   ]
  },
  {
   "cell_type": "markdown",
   "id": "9a2f3fa4",
   "metadata": {},
   "source": []
  }
 ],
 "metadata": {
  "kernelspec": {
   "display_name": "Python 3",
   "language": "python",
   "name": "python3"
  },
  "language_info": {
   "codemirror_mode": {
    "name": "ipython",
    "version": 3
   },
   "file_extension": ".py",
   "mimetype": "text/x-python",
   "name": "python",
   "nbconvert_exporter": "python",
   "pygments_lexer": "ipython3",
   "version": "3.12.1"
  }
 },
 "nbformat": 4,
 "nbformat_minor": 5
}
