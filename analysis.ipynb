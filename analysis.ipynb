{
 "cells": [
  {
   "cell_type": "markdown",
   "id": "b0778d29",
   "metadata": {},
   "source": [
    "# Higher Diploma in Science in Computing (Data Analytics)\n",
    "\n",
    "**Module:** Programming and Scripting  \n",
    "**Lecturer:** Andrew Beatty  \n",
    "**Author:** Elaine R. Cazetta  \n",
    "\n",
    "---  "
   ]
  },
  {
   "cell_type": "markdown",
   "id": "1e97743b",
   "metadata": {},
   "source": [
    "## Project: Iris Dataset Analysis\n",
    "\n",
    "[1]  \n",
    "![Iris Flowers](https://miro.medium.com/v2/resize:fit:720/format:webp/0*11IwZmSKXw77eYz5)  \n",
    "\n",
    "---  "
   ]
  },
  {
   "cell_type": "markdown",
   "id": "5ad2de7a",
   "metadata": {},
   "source": [
    "### About the project: \n",
    "\n",
    "This project was developed as part of the *Programming and Scripting* module. It aims to analize the famous [Fisher's Iris Dataset](https://archive.ics.uci.edu/dataset/53/iris) [2], apply basic data processing and visualization techniques, and present meaningful insights using Python.\n",
    "\n",
    "The project requirements are as follows:\n",
    "\n",
    "1. Research the dataset online and write a summary about it in a README file.\n",
    "2. Download the dataset and add it to a GitHub repository.\n",
    "3. Write a program called 'analysis.py' that:\n",
    "   - Outputs a summary of each variable to a single text file,\n",
    "   - Saves a histogram of each variable as a PNG file, and\n",
    "   - Outputs a scatter plot of each pair of variables.\n",
    "4. Perform any other appropriate analysis, including the creation of a Jupyter Notebook.\n",
    "\n",
    "The analysis performed in this notebook was created to meet the project requirements. It reproduces the same analysis done in the [analysis.py](https://github.com/elainecazetta/pands-project/blob/main/analysis.py) file, with additional insights in accordance with item 4 above.\n",
    "\n",
    "\n",
    "---  \n"
   ]
  },
  {
   "cell_type": "markdown",
   "id": "6832ab27",
   "metadata": {},
   "source": [
    "### About the dataset:\n",
    "\n",
    "The [Iris dataset](https://doi.org/10.24432/C56C76) was introduced in 1936 by British statistician and biologist Ronald A. Fisher [4]. It's one of the most well-known datasets in the field of data science and is often used for learning and testing classification techniques. What makes it so popular is that it's small, clean, and easy to visualize — perfect for beginners exploring data analysis and machine learning [3].\n",
    "\n",
    "The dataset includes 150 entries, each representing a type of iris flower. For each sample, four features were recorded in centimeters [2]:\n",
    "\n",
    "- *Sepal length*\n",
    "- *Sepal width*\n",
    "- *Petal length*\n",
    "- *Petal width*\n",
    "\n",
    "These measurements are used to identify the species of each flower. The dataset covers three distinct iris species:\n",
    "\n",
    "- *Iris Setosa*  \n",
    "- *Iris Versicolor*   \n",
    "- *Iris Virginica* \n",
    "\n",
    "The clear structure and balanced number of samples per class (50 of each) make this dataset especially useful for practicing supervised learning models like classification and clustering, and it's a common choice for visual demonstrations in data exploration. \n",
    "\n",
    "\n",
    "---  \n"
   ]
  },
  {
   "cell_type": "markdown",
   "id": "48999545",
   "metadata": {},
   "source": [
    "### Libraries:\n",
    "\n",
    "The following libraries are required to run the code in this notebook:   \n",
    "\n",
    "- [pandas](https://pandas.pydata.org/) – for data manipulation and analysis [5]  \n",
    "- [numpy](https://numpy.org/) – for numerical operations and working with arrays [6]   \n",
    "- [matplotlib](https://matplotlib.org/) – for creating basic data visualizations such as histograms and scatter plots [7]   \n",
    "- [scikit-learn](https://scikit-learn.org/stable/) – provides access to the Iris dataset [8]   "
   ]
  },
  {
   "cell_type": "code",
   "execution_count": 12,
   "id": "c3ce47e6",
   "metadata": {},
   "outputs": [],
   "source": [
    "# Importing the libraries:\n",
    "\n",
    "# For data manipulation and analysis\n",
    "import pandas as pd \n",
    "\n",
    "# For numerical operations and working with arrays\n",
    "import numpy as np \n",
    "\n",
    "# For creating data visualizations\n",
    "import matplotlib.pyplot as plt \n",
    "\n",
    "# To load the Iris dataset\n",
    "from sklearn.datasets import load_iris "
   ]
  },
  {
   "cell_type": "markdown",
   "id": "633bfce2",
   "metadata": {},
   "source": [
    "\n",
    "--- "
   ]
  },
  {
   "cell_type": "markdown",
   "id": "7b084e36",
   "metadata": {},
   "source": [
    "### Loading the dataset:\n",
    "\n",
    "The line ***iris = load_iris()*** loads the Iris dataset from *sklearn* library [8] into this notebook. The commands ***print(iris.data[:5])*** and ***print(iris.data[-5:])*** display the first and last five rows of the raw dataset."
   ]
  },
  {
   "cell_type": "code",
   "execution_count": 17,
   "id": "509dcd31",
   "metadata": {},
   "outputs": [],
   "source": [
    "# Load the Iris dataset from sklearn\n",
    "iris = load_iris()"
   ]
  },
  {
   "cell_type": "code",
   "execution_count": 18,
   "id": "a35ab443",
   "metadata": {},
   "outputs": [
    {
     "name": "stdout",
     "output_type": "stream",
     "text": [
      "[[5.1 3.5 1.4 0.2]\n",
      " [4.9 3.  1.4 0.2]\n",
      " [4.7 3.2 1.3 0.2]\n",
      " [4.6 3.1 1.5 0.2]\n",
      " [5.  3.6 1.4 0.2]]\n"
     ]
    }
   ],
   "source": [
    "# First 5 rows of the dataset\n",
    "print(iris.data[:5])"
   ]
  },
  {
   "cell_type": "code",
   "execution_count": 19,
   "id": "f75bb754",
   "metadata": {},
   "outputs": [
    {
     "name": "stdout",
     "output_type": "stream",
     "text": [
      "[[6.7 3.  5.2 2.3]\n",
      " [6.3 2.5 5.  1.9]\n",
      " [6.5 3.  5.2 2. ]\n",
      " [6.2 3.4 5.4 2.3]\n",
      " [5.9 3.  5.1 1.8]]\n"
     ]
    }
   ],
   "source": [
    "# Last 5 rows of the dataset\n",
    "print(iris.data[-5:])"
   ]
  },
  {
   "cell_type": "markdown",
   "id": "7126d115",
   "metadata": {},
   "source": [
    "To improve readability and add column names, the raw data is converted into a Pandas DataFrame, as shown below:"
   ]
  },
  {
   "cell_type": "code",
   "execution_count": 21,
   "id": "f36b33c6",
   "metadata": {},
   "outputs": [
    {
     "data": {
      "text/html": [
       "<div>\n",
       "<style scoped>\n",
       "    .dataframe tbody tr th:only-of-type {\n",
       "        vertical-align: middle;\n",
       "    }\n",
       "\n",
       "    .dataframe tbody tr th {\n",
       "        vertical-align: top;\n",
       "    }\n",
       "\n",
       "    .dataframe thead th {\n",
       "        text-align: right;\n",
       "    }\n",
       "</style>\n",
       "<table border=\"1\" class=\"dataframe\">\n",
       "  <thead>\n",
       "    <tr style=\"text-align: right;\">\n",
       "      <th></th>\n",
       "      <th>sepal length (cm)</th>\n",
       "      <th>sepal width (cm)</th>\n",
       "      <th>petal length (cm)</th>\n",
       "      <th>petal width (cm)</th>\n",
       "      <th>species</th>\n",
       "    </tr>\n",
       "  </thead>\n",
       "  <tbody>\n",
       "    <tr>\n",
       "      <th>0</th>\n",
       "      <td>5.1</td>\n",
       "      <td>3.5</td>\n",
       "      <td>1.4</td>\n",
       "      <td>0.2</td>\n",
       "      <td>0</td>\n",
       "    </tr>\n",
       "    <tr>\n",
       "      <th>1</th>\n",
       "      <td>4.9</td>\n",
       "      <td>3.0</td>\n",
       "      <td>1.4</td>\n",
       "      <td>0.2</td>\n",
       "      <td>0</td>\n",
       "    </tr>\n",
       "    <tr>\n",
       "      <th>2</th>\n",
       "      <td>4.7</td>\n",
       "      <td>3.2</td>\n",
       "      <td>1.3</td>\n",
       "      <td>0.2</td>\n",
       "      <td>0</td>\n",
       "    </tr>\n",
       "    <tr>\n",
       "      <th>3</th>\n",
       "      <td>4.6</td>\n",
       "      <td>3.1</td>\n",
       "      <td>1.5</td>\n",
       "      <td>0.2</td>\n",
       "      <td>0</td>\n",
       "    </tr>\n",
       "    <tr>\n",
       "      <th>4</th>\n",
       "      <td>5.0</td>\n",
       "      <td>3.6</td>\n",
       "      <td>1.4</td>\n",
       "      <td>0.2</td>\n",
       "      <td>0</td>\n",
       "    </tr>\n",
       "    <tr>\n",
       "      <th>...</th>\n",
       "      <td>...</td>\n",
       "      <td>...</td>\n",
       "      <td>...</td>\n",
       "      <td>...</td>\n",
       "      <td>...</td>\n",
       "    </tr>\n",
       "    <tr>\n",
       "      <th>145</th>\n",
       "      <td>6.7</td>\n",
       "      <td>3.0</td>\n",
       "      <td>5.2</td>\n",
       "      <td>2.3</td>\n",
       "      <td>2</td>\n",
       "    </tr>\n",
       "    <tr>\n",
       "      <th>146</th>\n",
       "      <td>6.3</td>\n",
       "      <td>2.5</td>\n",
       "      <td>5.0</td>\n",
       "      <td>1.9</td>\n",
       "      <td>2</td>\n",
       "    </tr>\n",
       "    <tr>\n",
       "      <th>147</th>\n",
       "      <td>6.5</td>\n",
       "      <td>3.0</td>\n",
       "      <td>5.2</td>\n",
       "      <td>2.0</td>\n",
       "      <td>2</td>\n",
       "    </tr>\n",
       "    <tr>\n",
       "      <th>148</th>\n",
       "      <td>6.2</td>\n",
       "      <td>3.4</td>\n",
       "      <td>5.4</td>\n",
       "      <td>2.3</td>\n",
       "      <td>2</td>\n",
       "    </tr>\n",
       "    <tr>\n",
       "      <th>149</th>\n",
       "      <td>5.9</td>\n",
       "      <td>3.0</td>\n",
       "      <td>5.1</td>\n",
       "      <td>1.8</td>\n",
       "      <td>2</td>\n",
       "    </tr>\n",
       "  </tbody>\n",
       "</table>\n",
       "<p>150 rows × 5 columns</p>\n",
       "</div>"
      ],
      "text/plain": [
       "     sepal length (cm)  sepal width (cm)  petal length (cm)  petal width (cm)  \\\n",
       "0                  5.1               3.5                1.4               0.2   \n",
       "1                  4.9               3.0                1.4               0.2   \n",
       "2                  4.7               3.2                1.3               0.2   \n",
       "3                  4.6               3.1                1.5               0.2   \n",
       "4                  5.0               3.6                1.4               0.2   \n",
       "..                 ...               ...                ...               ...   \n",
       "145                6.7               3.0                5.2               2.3   \n",
       "146                6.3               2.5                5.0               1.9   \n",
       "147                6.5               3.0                5.2               2.0   \n",
       "148                6.2               3.4                5.4               2.3   \n",
       "149                5.9               3.0                5.1               1.8   \n",
       "\n",
       "     species  \n",
       "0          0  \n",
       "1          0  \n",
       "2          0  \n",
       "3          0  \n",
       "4          0  \n",
       "..       ...  \n",
       "145        2  \n",
       "146        2  \n",
       "147        2  \n",
       "148        2  \n",
       "149        2  \n",
       "\n",
       "[150 rows x 5 columns]"
      ]
     },
     "execution_count": 21,
     "metadata": {},
     "output_type": "execute_result"
    }
   ],
   "source": [
    "# Convert the dataset into a Pandas DataFrame for better visualization\n",
    "df = pd.DataFrame(data=iris.data, columns=iris.feature_names)\n",
    "\n",
    "# Add a 'species' column to identify each row\n",
    "df['species'] = iris.target\n",
    "\n",
    "# Displays the DataFrame including the number of rows and columns at the end\n",
    "df"
   ]
  },
  {
   "cell_type": "markdown",
   "id": "90755b80",
   "metadata": {},
   "source": [
    "\n",
    "---  "
   ]
  },
  {
   "cell_type": "markdown",
   "id": "9f4f07ed",
   "metadata": {},
   "source": [
    "### Analyzing the dataset:\n",
    "\n",
    "---  "
   ]
  },
  {
   "cell_type": "markdown",
   "id": "91a55e80",
   "metadata": {},
   "source": [
    "### Data Visualization:\n",
    "\n",
    "---  "
   ]
  },
  {
   "cell_type": "markdown",
   "id": "9a2f3fa4",
   "metadata": {},
   "source": [
    "### References:  \n",
    "[1] Image, credits: medium.com. Available in: https://3tw.medium.com/scikit-learn-the-iris-dataset-and-machine-learning-the-journey-to-a-new-skill-c8d2f537e087 [Accessed 06 May 2025]  \n",
    "[2] R. Fisher. Iris, UCI Machine Learning Repository, 1936. Available in: https://doi.org/10.24432/C56C76. [Accessed 04 May 2025]  \n",
    "[3] Kelleher, Curran. The Iris Dataset Explained. Available in: https://gist.github.com/curran/a08a1080b88344b0c8a7. [Accessed 05 May 2025]  \n",
    "[4] Iris Flower data set - Wikipedia. Available in: https://en.wikipedia.org/wiki/Iris_flower_data_set. [Accessed 06 May 2025]  \n",
    "[5] pandas. Available in: https://pandas.pydata.org/ [Accessed 08 May 2025]  \n",
    "[6] NumPy. Available in: https://numpy.org/ [Accessed 08 May 2025]  \n",
    "[7] Matplotlib. Available in: https://matplotlib.org/ [Accessed 08 May 2025]  \n",
    "[8] scikit-learn. Available in: https://scikit-learn.org/stable/ [Accessed 06 May 2025]  \n",
    "\n",
    "---  "
   ]
  },
  {
   "cell_type": "markdown",
   "id": "ff51b485",
   "metadata": {},
   "source": [
    "## End\n",
    "\n",
    "---  "
   ]
  }
 ],
 "metadata": {
  "kernelspec": {
   "display_name": "Python 3",
   "language": "python",
   "name": "python3"
  },
  "language_info": {
   "codemirror_mode": {
    "name": "ipython",
    "version": 3
   },
   "file_extension": ".py",
   "mimetype": "text/x-python",
   "name": "python",
   "nbconvert_exporter": "python",
   "pygments_lexer": "ipython3",
   "version": "3.12.1"
  }
 },
 "nbformat": 4,
 "nbformat_minor": 5
}
