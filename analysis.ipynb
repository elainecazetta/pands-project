{
 "cells": [
  {
   "cell_type": "markdown",
   "id": "b0778d29",
   "metadata": {},
   "source": [
    "# Higher Diploma in Science in Computing (Data Analytics)\n",
    "\n",
    "**Module:** Programming and Scripting  \n",
    "**Lecturer:** Andrew Beatty  \n",
    "**Author:** Elaine R. Cazetta  \n",
    "\n",
    "---  "
   ]
  },
  {
   "cell_type": "markdown",
   "id": "1e97743b",
   "metadata": {},
   "source": [
    "## Project: Iris Dataset Analysis\n",
    "\n",
    "[1]  \n",
    "![Iris Flowers](https://miro.medium.com/v2/resize:fit:720/format:webp/0*11IwZmSKXw77eYz5)  \n",
    "\n",
    "---  "
   ]
  },
  {
   "cell_type": "markdown",
   "id": "5ad2de7a",
   "metadata": {},
   "source": [
    "### About the project: \n",
    "\n",
    "This project was developed as part of the *Programming and Scripting* module. It aims to analize the famous [Fisher's Iris Dataset](https://archive.ics.uci.edu/dataset/53/iris) [2], apply basic data processing and visualization techniques, and present meaningful insights using Python.\n",
    "\n",
    "The project requirements are as follows:\n",
    "\n",
    "1. Research the dataset online and write a summary about it in a README file.\n",
    "2. Download the dataset and add it to a GitHub repository.\n",
    "3. Write a program called 'analysis.py' that:\n",
    "   - Outputs a summary of each variable to a single text file,\n",
    "   - Saves a histogram of each variable as a PNG file, and\n",
    "   - Outputs a scatter plot of each pair of variables.\n",
    "4. Perform any other appropriate analysis, including the creation of a Jupyter Notebook.\n",
    "\n",
    "The analysis performed in this notebook was created to meet the project requirements. It reproduces the same analysis done in the [analysis.py](https://github.com/elainecazetta/pands-project/blob/main/analysis.py) file, with additional insights in accordance with item 4 above.\n",
    "\n",
    "\n",
    "---  \n"
   ]
  },
  {
   "cell_type": "markdown",
   "id": "6832ab27",
   "metadata": {},
   "source": [
    "### About the dataset:\n",
    "\n",
    "The [Iris dataset](https://doi.org/10.24432/C56C76) was introduced in 1936 by British statistician and biologist Ronald A. Fisher [4]. It's one of the most well-known datasets in the field of data science and is often used for learning and testing classification techniques. What makes it so popular is that it's small, clean, and easy to visualize — perfect for beginners exploring data analysis and machine learning [3].\n",
    "\n",
    "The dataset includes 150 entries, each representing a type of iris flower. For each sample, four features were recorded in centimeters [2]:\n",
    "\n",
    "- *Sepal length*\n",
    "- *Sepal width*\n",
    "- *Petal length*\n",
    "- *Petal width*\n",
    "\n",
    "These measurements are used to identify the species of each flower. The dataset covers three distinct iris species:\n",
    "\n",
    "- *Iris Setosa*  \n",
    "- *Iris Versicolor*   \n",
    "- *Iris Virginica* \n",
    "\n",
    "The clear structure and balanced number of samples per class (50 of each) make this dataset especially useful for practicing supervised learning models like classification and clustering, and it's a common choice for visual demonstrations in data exploration. \n",
    "\n",
    "\n",
    "---  \n"
   ]
  },
  {
   "cell_type": "markdown",
   "id": "48999545",
   "metadata": {},
   "source": [
    "### Libraries:\n",
    "\n",
    "The following libraries are required to run the code in this notebook:   \n",
    "\n",
    "- [pandas](https://pandas.pydata.org/) – for data manipulation and analysis [5]  \n",
    "- [numpy](https://numpy.org/) – for numerical operations and working with arrays [6]   \n",
    "- [matplotlib](https://matplotlib.org/) – for creating basic data visualizations such as histograms and scatter plots [7]   \n",
    "- [scikit-learn](https://scikit-learn.org/stable/) – provides access to the Iris dataset [8]   "
   ]
  },
  {
   "cell_type": "code",
   "execution_count": null,
   "id": "c3ce47e6",
   "metadata": {},
   "outputs": [],
   "source": [
    "# Importing the libraries:\n",
    "\n",
    "# For data manipulation and analysis\n",
    "import pandas as pd \n",
    "\n",
    "# For numerical operations and working with arrays\n",
    "import numpy as np \n",
    "\n",
    "# For creating data visualizations\n",
    "import matplotlib.pyplot as plt \n",
    "\n",
    "# To load the Iris dataset\n",
    "from sklearn.datasets import load_iris "
   ]
  },
  {
   "cell_type": "markdown",
   "id": "633bfce2",
   "metadata": {},
   "source": [
    "\n",
    "--- "
   ]
  },
  {
   "cell_type": "markdown",
   "id": "7b084e36",
   "metadata": {},
   "source": [
    "### Loading the dataset:\n",
    "\n",
    "The line ***iris = load_iris()*** loads the Iris dataset from *sklearn* library [8] into this notebook. The command ***print(iris)*** displays the full dataset, including metadata such as feature names, target names, and a description. The commands commands ***print(iris.data[:5])*** and ***print(iris.data[-5:])*** display the first and last five rows of the raw data."
   ]
  },
  {
   "cell_type": "code",
   "execution_count": 2,
   "id": "509dcd31",
   "metadata": {},
   "outputs": [
    {
     "name": "stdout",
     "output_type": "stream",
     "text": [
      "{'data': array([[5.1, 3.5, 1.4, 0.2],\n",
      "       [4.9, 3. , 1.4, 0.2],\n",
      "       [4.7, 3.2, 1.3, 0.2],\n",
      "       [4.6, 3.1, 1.5, 0.2],\n",
      "       [5. , 3.6, 1.4, 0.2],\n",
      "       [5.4, 3.9, 1.7, 0.4],\n",
      "       [4.6, 3.4, 1.4, 0.3],\n",
      "       [5. , 3.4, 1.5, 0.2],\n",
      "       [4.4, 2.9, 1.4, 0.2],\n",
      "       [4.9, 3.1, 1.5, 0.1],\n",
      "       [5.4, 3.7, 1.5, 0.2],\n",
      "       [4.8, 3.4, 1.6, 0.2],\n",
      "       [4.8, 3. , 1.4, 0.1],\n",
      "       [4.3, 3. , 1.1, 0.1],\n",
      "       [5.8, 4. , 1.2, 0.2],\n",
      "       [5.7, 4.4, 1.5, 0.4],\n",
      "       [5.4, 3.9, 1.3, 0.4],\n",
      "       [5.1, 3.5, 1.4, 0.3],\n",
      "       [5.7, 3.8, 1.7, 0.3],\n",
      "       [5.1, 3.8, 1.5, 0.3],\n",
      "       [5.4, 3.4, 1.7, 0.2],\n",
      "       [5.1, 3.7, 1.5, 0.4],\n",
      "       [4.6, 3.6, 1. , 0.2],\n",
      "       [5.1, 3.3, 1.7, 0.5],\n",
      "       [4.8, 3.4, 1.9, 0.2],\n",
      "       [5. , 3. , 1.6, 0.2],\n",
      "       [5. , 3.4, 1.6, 0.4],\n",
      "       [5.2, 3.5, 1.5, 0.2],\n",
      "       [5.2, 3.4, 1.4, 0.2],\n",
      "       [4.7, 3.2, 1.6, 0.2],\n",
      "       [4.8, 3.1, 1.6, 0.2],\n",
      "       [5.4, 3.4, 1.5, 0.4],\n",
      "       [5.2, 4.1, 1.5, 0.1],\n",
      "       [5.5, 4.2, 1.4, 0.2],\n",
      "       [4.9, 3.1, 1.5, 0.2],\n",
      "       [5. , 3.2, 1.2, 0.2],\n",
      "       [5.5, 3.5, 1.3, 0.2],\n",
      "       [4.9, 3.6, 1.4, 0.1],\n",
      "       [4.4, 3. , 1.3, 0.2],\n",
      "       [5.1, 3.4, 1.5, 0.2],\n",
      "       [5. , 3.5, 1.3, 0.3],\n",
      "       [4.5, 2.3, 1.3, 0.3],\n",
      "       [4.4, 3.2, 1.3, 0.2],\n",
      "       [5. , 3.5, 1.6, 0.6],\n",
      "       [5.1, 3.8, 1.9, 0.4],\n",
      "       [4.8, 3. , 1.4, 0.3],\n",
      "       [5.1, 3.8, 1.6, 0.2],\n",
      "       [4.6, 3.2, 1.4, 0.2],\n",
      "       [5.3, 3.7, 1.5, 0.2],\n",
      "       [5. , 3.3, 1.4, 0.2],\n",
      "       [7. , 3.2, 4.7, 1.4],\n",
      "       [6.4, 3.2, 4.5, 1.5],\n",
      "       [6.9, 3.1, 4.9, 1.5],\n",
      "       [5.5, 2.3, 4. , 1.3],\n",
      "       [6.5, 2.8, 4.6, 1.5],\n",
      "       [5.7, 2.8, 4.5, 1.3],\n",
      "       [6.3, 3.3, 4.7, 1.6],\n",
      "       [4.9, 2.4, 3.3, 1. ],\n",
      "       [6.6, 2.9, 4.6, 1.3],\n",
      "       [5.2, 2.7, 3.9, 1.4],\n",
      "       [5. , 2. , 3.5, 1. ],\n",
      "       [5.9, 3. , 4.2, 1.5],\n",
      "       [6. , 2.2, 4. , 1. ],\n",
      "       [6.1, 2.9, 4.7, 1.4],\n",
      "       [5.6, 2.9, 3.6, 1.3],\n",
      "       [6.7, 3.1, 4.4, 1.4],\n",
      "       [5.6, 3. , 4.5, 1.5],\n",
      "       [5.8, 2.7, 4.1, 1. ],\n",
      "       [6.2, 2.2, 4.5, 1.5],\n",
      "       [5.6, 2.5, 3.9, 1.1],\n",
      "       [5.9, 3.2, 4.8, 1.8],\n",
      "       [6.1, 2.8, 4. , 1.3],\n",
      "       [6.3, 2.5, 4.9, 1.5],\n",
      "       [6.1, 2.8, 4.7, 1.2],\n",
      "       [6.4, 2.9, 4.3, 1.3],\n",
      "       [6.6, 3. , 4.4, 1.4],\n",
      "       [6.8, 2.8, 4.8, 1.4],\n",
      "       [6.7, 3. , 5. , 1.7],\n",
      "       [6. , 2.9, 4.5, 1.5],\n",
      "       [5.7, 2.6, 3.5, 1. ],\n",
      "       [5.5, 2.4, 3.8, 1.1],\n",
      "       [5.5, 2.4, 3.7, 1. ],\n",
      "       [5.8, 2.7, 3.9, 1.2],\n",
      "       [6. , 2.7, 5.1, 1.6],\n",
      "       [5.4, 3. , 4.5, 1.5],\n",
      "       [6. , 3.4, 4.5, 1.6],\n",
      "       [6.7, 3.1, 4.7, 1.5],\n",
      "       [6.3, 2.3, 4.4, 1.3],\n",
      "       [5.6, 3. , 4.1, 1.3],\n",
      "       [5.5, 2.5, 4. , 1.3],\n",
      "       [5.5, 2.6, 4.4, 1.2],\n",
      "       [6.1, 3. , 4.6, 1.4],\n",
      "       [5.8, 2.6, 4. , 1.2],\n",
      "       [5. , 2.3, 3.3, 1. ],\n",
      "       [5.6, 2.7, 4.2, 1.3],\n",
      "       [5.7, 3. , 4.2, 1.2],\n",
      "       [5.7, 2.9, 4.2, 1.3],\n",
      "       [6.2, 2.9, 4.3, 1.3],\n",
      "       [5.1, 2.5, 3. , 1.1],\n",
      "       [5.7, 2.8, 4.1, 1.3],\n",
      "       [6.3, 3.3, 6. , 2.5],\n",
      "       [5.8, 2.7, 5.1, 1.9],\n",
      "       [7.1, 3. , 5.9, 2.1],\n",
      "       [6.3, 2.9, 5.6, 1.8],\n",
      "       [6.5, 3. , 5.8, 2.2],\n",
      "       [7.6, 3. , 6.6, 2.1],\n",
      "       [4.9, 2.5, 4.5, 1.7],\n",
      "       [7.3, 2.9, 6.3, 1.8],\n",
      "       [6.7, 2.5, 5.8, 1.8],\n",
      "       [7.2, 3.6, 6.1, 2.5],\n",
      "       [6.5, 3.2, 5.1, 2. ],\n",
      "       [6.4, 2.7, 5.3, 1.9],\n",
      "       [6.8, 3. , 5.5, 2.1],\n",
      "       [5.7, 2.5, 5. , 2. ],\n",
      "       [5.8, 2.8, 5.1, 2.4],\n",
      "       [6.4, 3.2, 5.3, 2.3],\n",
      "       [6.5, 3. , 5.5, 1.8],\n",
      "       [7.7, 3.8, 6.7, 2.2],\n",
      "       [7.7, 2.6, 6.9, 2.3],\n",
      "       [6. , 2.2, 5. , 1.5],\n",
      "       [6.9, 3.2, 5.7, 2.3],\n",
      "       [5.6, 2.8, 4.9, 2. ],\n",
      "       [7.7, 2.8, 6.7, 2. ],\n",
      "       [6.3, 2.7, 4.9, 1.8],\n",
      "       [6.7, 3.3, 5.7, 2.1],\n",
      "       [7.2, 3.2, 6. , 1.8],\n",
      "       [6.2, 2.8, 4.8, 1.8],\n",
      "       [6.1, 3. , 4.9, 1.8],\n",
      "       [6.4, 2.8, 5.6, 2.1],\n",
      "       [7.2, 3. , 5.8, 1.6],\n",
      "       [7.4, 2.8, 6.1, 1.9],\n",
      "       [7.9, 3.8, 6.4, 2. ],\n",
      "       [6.4, 2.8, 5.6, 2.2],\n",
      "       [6.3, 2.8, 5.1, 1.5],\n",
      "       [6.1, 2.6, 5.6, 1.4],\n",
      "       [7.7, 3. , 6.1, 2.3],\n",
      "       [6.3, 3.4, 5.6, 2.4],\n",
      "       [6.4, 3.1, 5.5, 1.8],\n",
      "       [6. , 3. , 4.8, 1.8],\n",
      "       [6.9, 3.1, 5.4, 2.1],\n",
      "       [6.7, 3.1, 5.6, 2.4],\n",
      "       [6.9, 3.1, 5.1, 2.3],\n",
      "       [5.8, 2.7, 5.1, 1.9],\n",
      "       [6.8, 3.2, 5.9, 2.3],\n",
      "       [6.7, 3.3, 5.7, 2.5],\n",
      "       [6.7, 3. , 5.2, 2.3],\n",
      "       [6.3, 2.5, 5. , 1.9],\n",
      "       [6.5, 3. , 5.2, 2. ],\n",
      "       [6.2, 3.4, 5.4, 2.3],\n",
      "       [5.9, 3. , 5.1, 1.8]]), 'target': array([0, 0, 0, 0, 0, 0, 0, 0, 0, 0, 0, 0, 0, 0, 0, 0, 0, 0, 0, 0, 0, 0,\n",
      "       0, 0, 0, 0, 0, 0, 0, 0, 0, 0, 0, 0, 0, 0, 0, 0, 0, 0, 0, 0, 0, 0,\n",
      "       0, 0, 0, 0, 0, 0, 1, 1, 1, 1, 1, 1, 1, 1, 1, 1, 1, 1, 1, 1, 1, 1,\n",
      "       1, 1, 1, 1, 1, 1, 1, 1, 1, 1, 1, 1, 1, 1, 1, 1, 1, 1, 1, 1, 1, 1,\n",
      "       1, 1, 1, 1, 1, 1, 1, 1, 1, 1, 1, 1, 2, 2, 2, 2, 2, 2, 2, 2, 2, 2,\n",
      "       2, 2, 2, 2, 2, 2, 2, 2, 2, 2, 2, 2, 2, 2, 2, 2, 2, 2, 2, 2, 2, 2,\n",
      "       2, 2, 2, 2, 2, 2, 2, 2, 2, 2, 2, 2, 2, 2, 2, 2, 2, 2]), 'frame': None, 'target_names': array(['setosa', 'versicolor', 'virginica'], dtype='<U10'), 'DESCR': '.. _iris_dataset:\\n\\nIris plants dataset\\n--------------------\\n\\n**Data Set Characteristics:**\\n\\n:Number of Instances: 150 (50 in each of three classes)\\n:Number of Attributes: 4 numeric, predictive attributes and the class\\n:Attribute Information:\\n    - sepal length in cm\\n    - sepal width in cm\\n    - petal length in cm\\n    - petal width in cm\\n    - class:\\n            - Iris-Setosa\\n            - Iris-Versicolour\\n            - Iris-Virginica\\n\\n:Summary Statistics:\\n\\n============== ==== ==== ======= ===== ====================\\n                Min  Max   Mean    SD   Class Correlation\\n============== ==== ==== ======= ===== ====================\\nsepal length:   4.3  7.9   5.84   0.83    0.7826\\nsepal width:    2.0  4.4   3.05   0.43   -0.4194\\npetal length:   1.0  6.9   3.76   1.76    0.9490  (high!)\\npetal width:    0.1  2.5   1.20   0.76    0.9565  (high!)\\n============== ==== ==== ======= ===== ====================\\n\\n:Missing Attribute Values: None\\n:Class Distribution: 33.3% for each of 3 classes.\\n:Creator: R.A. Fisher\\n:Donor: Michael Marshall (MARSHALL%PLU@io.arc.nasa.gov)\\n:Date: July, 1988\\n\\nThe famous Iris database, first used by Sir R.A. Fisher. The dataset is taken\\nfrom Fisher\\'s paper. Note that it\\'s the same as in R, but not as in the UCI\\nMachine Learning Repository, which has two wrong data points.\\n\\nThis is perhaps the best known database to be found in the\\npattern recognition literature.  Fisher\\'s paper is a classic in the field and\\nis referenced frequently to this day.  (See Duda & Hart, for example.)  The\\ndata set contains 3 classes of 50 instances each, where each class refers to a\\ntype of iris plant.  One class is linearly separable from the other 2; the\\nlatter are NOT linearly separable from each other.\\n\\n.. dropdown:: References\\n\\n  - Fisher, R.A. \"The use of multiple measurements in taxonomic problems\"\\n    Annual Eugenics, 7, Part II, 179-188 (1936); also in \"Contributions to\\n    Mathematical Statistics\" (John Wiley, NY, 1950).\\n  - Duda, R.O., & Hart, P.E. (1973) Pattern Classification and Scene Analysis.\\n    (Q327.D83) John Wiley & Sons.  ISBN 0-471-22361-1.  See page 218.\\n  - Dasarathy, B.V. (1980) \"Nosing Around the Neighborhood: A New System\\n    Structure and Classification Rule for Recognition in Partially Exposed\\n    Environments\".  IEEE Transactions on Pattern Analysis and Machine\\n    Intelligence, Vol. PAMI-2, No. 1, 67-71.\\n  - Gates, G.W. (1972) \"The Reduced Nearest Neighbor Rule\".  IEEE Transactions\\n    on Information Theory, May 1972, 431-433.\\n  - See also: 1988 MLC Proceedings, 54-64.  Cheeseman et al\"s AUTOCLASS II\\n    conceptual clustering system finds 3 classes in the data.\\n  - Many, many more ...\\n', 'feature_names': ['sepal length (cm)', 'sepal width (cm)', 'petal length (cm)', 'petal width (cm)'], 'filename': 'iris.csv', 'data_module': 'sklearn.datasets.data'}\n"
     ]
    }
   ],
   "source": [
    "# Load the Iris dataset from sklearn\n",
    "iris = load_iris()\n",
    "print(iris)"
   ]
  },
  {
   "cell_type": "code",
   "execution_count": 3,
   "id": "a35ab443",
   "metadata": {},
   "outputs": [
    {
     "name": "stdout",
     "output_type": "stream",
     "text": [
      "[[5.1 3.5 1.4 0.2]\n",
      " [4.9 3.  1.4 0.2]\n",
      " [4.7 3.2 1.3 0.2]\n",
      " [4.6 3.1 1.5 0.2]\n",
      " [5.  3.6 1.4 0.2]]\n"
     ]
    }
   ],
   "source": [
    "# First 5 rows of the dataset [9]\n",
    "print(iris.data[:5])"
   ]
  },
  {
   "cell_type": "code",
   "execution_count": 4,
   "id": "f75bb754",
   "metadata": {},
   "outputs": [
    {
     "name": "stdout",
     "output_type": "stream",
     "text": [
      "[[6.7 3.  5.2 2.3]\n",
      " [6.3 2.5 5.  1.9]\n",
      " [6.5 3.  5.2 2. ]\n",
      " [6.2 3.4 5.4 2.3]\n",
      " [5.9 3.  5.1 1.8]]\n"
     ]
    }
   ],
   "source": [
    "# Last 5 rows of the dataset [9]\n",
    "print(iris.data[-5:])"
   ]
  },
  {
   "cell_type": "markdown",
   "id": "7126d115",
   "metadata": {},
   "source": [
    "\n",
    "To improve readability and add column names, the raw data is converted into a Pandas DataFrame [10], as shown below:\n"
   ]
  },
  {
   "cell_type": "code",
   "execution_count": 5,
   "id": "f36b33c6",
   "metadata": {},
   "outputs": [],
   "source": [
    "# Convert the dataset into a Pandas DataFrame for better visualization\n",
    "df = pd.DataFrame(data=iris.data, columns=iris.feature_names)\n",
    "\n",
    "# Add a 'species' column to identify each row\n",
    "df['species'] = iris.target\n",
    "\n",
    "# Map the numeric species labels (0, 1, 2) to their corresponding species names\n",
    "species_map = {0: 'setosa', 1: 'versicolor', 2: 'virginica'}\n",
    "df['species'] = df['species'].replace(species_map)"
   ]
  },
  {
   "cell_type": "markdown",
   "id": "8623c45a",
   "metadata": {},
   "source": [
    "\n",
    "The commands ***df.head()*** and ***df.tail()*** display the first and last five rows of the dataset in a formatted table, making it easier to read and interpret. This is especially useful during data exploration to quickly understand the structure, column names, and spot any unusual values.\n"
   ]
  },
  {
   "cell_type": "code",
   "execution_count": 6,
   "id": "08750e34",
   "metadata": {},
   "outputs": [
    {
     "data": {
      "text/html": [
       "<div>\n",
       "<style scoped>\n",
       "    .dataframe tbody tr th:only-of-type {\n",
       "        vertical-align: middle;\n",
       "    }\n",
       "\n",
       "    .dataframe tbody tr th {\n",
       "        vertical-align: top;\n",
       "    }\n",
       "\n",
       "    .dataframe thead th {\n",
       "        text-align: right;\n",
       "    }\n",
       "</style>\n",
       "<table border=\"1\" class=\"dataframe\">\n",
       "  <thead>\n",
       "    <tr style=\"text-align: right;\">\n",
       "      <th></th>\n",
       "      <th>sepal length (cm)</th>\n",
       "      <th>sepal width (cm)</th>\n",
       "      <th>petal length (cm)</th>\n",
       "      <th>petal width (cm)</th>\n",
       "      <th>species</th>\n",
       "    </tr>\n",
       "  </thead>\n",
       "  <tbody>\n",
       "    <tr>\n",
       "      <th>0</th>\n",
       "      <td>5.1</td>\n",
       "      <td>3.5</td>\n",
       "      <td>1.4</td>\n",
       "      <td>0.2</td>\n",
       "      <td>setosa</td>\n",
       "    </tr>\n",
       "    <tr>\n",
       "      <th>1</th>\n",
       "      <td>4.9</td>\n",
       "      <td>3.0</td>\n",
       "      <td>1.4</td>\n",
       "      <td>0.2</td>\n",
       "      <td>setosa</td>\n",
       "    </tr>\n",
       "    <tr>\n",
       "      <th>2</th>\n",
       "      <td>4.7</td>\n",
       "      <td>3.2</td>\n",
       "      <td>1.3</td>\n",
       "      <td>0.2</td>\n",
       "      <td>setosa</td>\n",
       "    </tr>\n",
       "    <tr>\n",
       "      <th>3</th>\n",
       "      <td>4.6</td>\n",
       "      <td>3.1</td>\n",
       "      <td>1.5</td>\n",
       "      <td>0.2</td>\n",
       "      <td>setosa</td>\n",
       "    </tr>\n",
       "    <tr>\n",
       "      <th>4</th>\n",
       "      <td>5.0</td>\n",
       "      <td>3.6</td>\n",
       "      <td>1.4</td>\n",
       "      <td>0.2</td>\n",
       "      <td>setosa</td>\n",
       "    </tr>\n",
       "  </tbody>\n",
       "</table>\n",
       "</div>"
      ],
      "text/plain": [
       "   sepal length (cm)  sepal width (cm)  petal length (cm)  petal width (cm)  \\\n",
       "0                5.1               3.5                1.4               0.2   \n",
       "1                4.9               3.0                1.4               0.2   \n",
       "2                4.7               3.2                1.3               0.2   \n",
       "3                4.6               3.1                1.5               0.2   \n",
       "4                5.0               3.6                1.4               0.2   \n",
       "\n",
       "  species  \n",
       "0  setosa  \n",
       "1  setosa  \n",
       "2  setosa  \n",
       "3  setosa  \n",
       "4  setosa  "
      ]
     },
     "execution_count": 6,
     "metadata": {},
     "output_type": "execute_result"
    }
   ],
   "source": [
    "# Displays the first five rows of the DataFrame\n",
    "df.head()"
   ]
  },
  {
   "cell_type": "code",
   "execution_count": 7,
   "id": "52ed2831",
   "metadata": {},
   "outputs": [
    {
     "data": {
      "text/html": [
       "<div>\n",
       "<style scoped>\n",
       "    .dataframe tbody tr th:only-of-type {\n",
       "        vertical-align: middle;\n",
       "    }\n",
       "\n",
       "    .dataframe tbody tr th {\n",
       "        vertical-align: top;\n",
       "    }\n",
       "\n",
       "    .dataframe thead th {\n",
       "        text-align: right;\n",
       "    }\n",
       "</style>\n",
       "<table border=\"1\" class=\"dataframe\">\n",
       "  <thead>\n",
       "    <tr style=\"text-align: right;\">\n",
       "      <th></th>\n",
       "      <th>sepal length (cm)</th>\n",
       "      <th>sepal width (cm)</th>\n",
       "      <th>petal length (cm)</th>\n",
       "      <th>petal width (cm)</th>\n",
       "      <th>species</th>\n",
       "    </tr>\n",
       "  </thead>\n",
       "  <tbody>\n",
       "    <tr>\n",
       "      <th>145</th>\n",
       "      <td>6.7</td>\n",
       "      <td>3.0</td>\n",
       "      <td>5.2</td>\n",
       "      <td>2.3</td>\n",
       "      <td>virginica</td>\n",
       "    </tr>\n",
       "    <tr>\n",
       "      <th>146</th>\n",
       "      <td>6.3</td>\n",
       "      <td>2.5</td>\n",
       "      <td>5.0</td>\n",
       "      <td>1.9</td>\n",
       "      <td>virginica</td>\n",
       "    </tr>\n",
       "    <tr>\n",
       "      <th>147</th>\n",
       "      <td>6.5</td>\n",
       "      <td>3.0</td>\n",
       "      <td>5.2</td>\n",
       "      <td>2.0</td>\n",
       "      <td>virginica</td>\n",
       "    </tr>\n",
       "    <tr>\n",
       "      <th>148</th>\n",
       "      <td>6.2</td>\n",
       "      <td>3.4</td>\n",
       "      <td>5.4</td>\n",
       "      <td>2.3</td>\n",
       "      <td>virginica</td>\n",
       "    </tr>\n",
       "    <tr>\n",
       "      <th>149</th>\n",
       "      <td>5.9</td>\n",
       "      <td>3.0</td>\n",
       "      <td>5.1</td>\n",
       "      <td>1.8</td>\n",
       "      <td>virginica</td>\n",
       "    </tr>\n",
       "  </tbody>\n",
       "</table>\n",
       "</div>"
      ],
      "text/plain": [
       "     sepal length (cm)  sepal width (cm)  petal length (cm)  petal width (cm)  \\\n",
       "145                6.7               3.0                5.2               2.3   \n",
       "146                6.3               2.5                5.0               1.9   \n",
       "147                6.5               3.0                5.2               2.0   \n",
       "148                6.2               3.4                5.4               2.3   \n",
       "149                5.9               3.0                5.1               1.8   \n",
       "\n",
       "       species  \n",
       "145  virginica  \n",
       "146  virginica  \n",
       "147  virginica  \n",
       "148  virginica  \n",
       "149  virginica  "
      ]
     },
     "execution_count": 7,
     "metadata": {},
     "output_type": "execute_result"
    }
   ],
   "source": [
    "# Displays the last five rows of the DataFrame\n",
    "df.tail()"
   ]
  },
  {
   "cell_type": "markdown",
   "id": "90755b80",
   "metadata": {},
   "source": [
    "\n",
    "---  "
   ]
  },
  {
   "cell_type": "markdown",
   "id": "9f4f07ed",
   "metadata": {},
   "source": [
    "### Exploring the dataset:\n",
    "\n",
    "This section is dedicated to basic data exploration and checking for potential issues in the dataset, such as missing or blank values. It also includes getting important insights into the dataset's structure, like its shape (the number of rows and columns), and generating summary statistics to better understand how the data is distributed.\n"
   ]
  },
  {
   "cell_type": "markdown",
   "id": "b34386fc",
   "metadata": {},
   "source": [
    "Before diving deeper, it’s useful to get an overview of the dataset. The code below retrieves its shape, showing how many rows and columns it contains:\n"
   ]
  },
  {
   "cell_type": "code",
   "execution_count": 8,
   "id": "a68e5a54",
   "metadata": {},
   "outputs": [
    {
     "name": "stdout",
     "output_type": "stream",
     "text": [
      "The dataset contains 150 rows and 4 columns.\n"
     ]
    }
   ],
   "source": [
    "# Get the shape of the dataset\n",
    "rows, columns = iris['data'].shape\n",
    "\n",
    "# Print with an informative message\n",
    "print(f\"The dataset contains {rows} rows and {columns} columns.\")\n"
   ]
  },
  {
   "cell_type": "markdown",
   "id": "84a27f92",
   "metadata": {},
   "source": [
    "The code below helps confirm how many unique species are present in the dataset:"
   ]
  },
  {
   "cell_type": "code",
   "execution_count": 9,
   "id": "6a9a51b6",
   "metadata": {},
   "outputs": [
    {
     "name": "stdout",
     "output_type": "stream",
     "text": [
      "Unique species: ['setosa' 'versicolor' 'virginica']\n"
     ]
    }
   ],
   "source": [
    "# List unique species\n",
    "unique_species = df['species'].unique()\n",
    "print(f\"Unique species: {unique_species}\")"
   ]
  },
  {
   "cell_type": "markdown",
   "id": "a65c68ac",
   "metadata": {},
   "source": [
    "To better understand the composition of the dataset, we can count how many samples belong to each species. The code below shows how many rows are associated with each species:\n"
   ]
  },
  {
   "cell_type": "code",
   "execution_count": 10,
   "id": "f555b20b",
   "metadata": {},
   "outputs": [
    {
     "name": "stdout",
     "output_type": "stream",
     "text": [
      "species\n",
      "setosa        50\n",
      "versicolor    50\n",
      "virginica     50\n",
      "Name: count, dtype: int64\n"
     ]
    }
   ],
   "source": [
    "# Count the number of samples per species\n",
    "species_counts = df['species'].value_counts()\n",
    "print(species_counts)"
   ]
  },
  {
   "cell_type": "markdown",
   "id": "57120ae5",
   "metadata": {},
   "source": [
    "The next step is to check for missing or null values. This is important because missing values can affect the quality of analysis. The code below checks each column for missing entries:\n"
   ]
  },
  {
   "cell_type": "code",
   "execution_count": 11,
   "id": "743e9e4b",
   "metadata": {},
   "outputs": [
    {
     "name": "stdout",
     "output_type": "stream",
     "text": [
      "sepal length (cm)    0\n",
      "sepal width (cm)     0\n",
      "petal length (cm)    0\n",
      "petal width (cm)     0\n",
      "species              0\n",
      "dtype: int64\n"
     ]
    }
   ],
   "source": [
    "# Check for missing values\n",
    "missing_values = df.isnull().sum()\n",
    "\n",
    "# Display the number of missing values in each column\n",
    "print(missing_values)"
   ]
  },
  {
   "cell_type": "markdown",
   "id": "18e10add",
   "metadata": {},
   "source": [
    "Once it is confirmed that there are no missing values, the next step is to get a summary of the statistical information of the dataset. This summary helps to understand the distribution of the numerical features and check if there are any significant outliers or unusual patterns. The following code generates this statistical summary for all features in the dataset, excluding the species column [11], since it is categorical and doesn’t require numeric statistics:"
   ]
  },
  {
   "cell_type": "code",
   "execution_count": 12,
   "id": "5fed27d4",
   "metadata": {},
   "outputs": [
    {
     "data": {
      "text/html": [
       "<div>\n",
       "<style scoped>\n",
       "    .dataframe tbody tr th:only-of-type {\n",
       "        vertical-align: middle;\n",
       "    }\n",
       "\n",
       "    .dataframe tbody tr th {\n",
       "        vertical-align: top;\n",
       "    }\n",
       "\n",
       "    .dataframe thead th {\n",
       "        text-align: right;\n",
       "    }\n",
       "</style>\n",
       "<table border=\"1\" class=\"dataframe\">\n",
       "  <thead>\n",
       "    <tr style=\"text-align: right;\">\n",
       "      <th></th>\n",
       "      <th>sepal length (cm)</th>\n",
       "      <th>sepal width (cm)</th>\n",
       "      <th>petal length (cm)</th>\n",
       "      <th>petal width (cm)</th>\n",
       "    </tr>\n",
       "  </thead>\n",
       "  <tbody>\n",
       "    <tr>\n",
       "      <th>count</th>\n",
       "      <td>150.000000</td>\n",
       "      <td>150.000000</td>\n",
       "      <td>150.000000</td>\n",
       "      <td>150.000000</td>\n",
       "    </tr>\n",
       "    <tr>\n",
       "      <th>mean</th>\n",
       "      <td>5.843333</td>\n",
       "      <td>3.057333</td>\n",
       "      <td>3.758000</td>\n",
       "      <td>1.199333</td>\n",
       "    </tr>\n",
       "    <tr>\n",
       "      <th>std</th>\n",
       "      <td>0.828066</td>\n",
       "      <td>0.435866</td>\n",
       "      <td>1.765298</td>\n",
       "      <td>0.762238</td>\n",
       "    </tr>\n",
       "    <tr>\n",
       "      <th>min</th>\n",
       "      <td>4.300000</td>\n",
       "      <td>2.000000</td>\n",
       "      <td>1.000000</td>\n",
       "      <td>0.100000</td>\n",
       "    </tr>\n",
       "    <tr>\n",
       "      <th>25%</th>\n",
       "      <td>5.100000</td>\n",
       "      <td>2.800000</td>\n",
       "      <td>1.600000</td>\n",
       "      <td>0.300000</td>\n",
       "    </tr>\n",
       "    <tr>\n",
       "      <th>50%</th>\n",
       "      <td>5.800000</td>\n",
       "      <td>3.000000</td>\n",
       "      <td>4.350000</td>\n",
       "      <td>1.300000</td>\n",
       "    </tr>\n",
       "    <tr>\n",
       "      <th>75%</th>\n",
       "      <td>6.400000</td>\n",
       "      <td>3.300000</td>\n",
       "      <td>5.100000</td>\n",
       "      <td>1.800000</td>\n",
       "    </tr>\n",
       "    <tr>\n",
       "      <th>max</th>\n",
       "      <td>7.900000</td>\n",
       "      <td>4.400000</td>\n",
       "      <td>6.900000</td>\n",
       "      <td>2.500000</td>\n",
       "    </tr>\n",
       "  </tbody>\n",
       "</table>\n",
       "</div>"
      ],
      "text/plain": [
       "       sepal length (cm)  sepal width (cm)  petal length (cm)  \\\n",
       "count         150.000000        150.000000         150.000000   \n",
       "mean            5.843333          3.057333           3.758000   \n",
       "std             0.828066          0.435866           1.765298   \n",
       "min             4.300000          2.000000           1.000000   \n",
       "25%             5.100000          2.800000           1.600000   \n",
       "50%             5.800000          3.000000           4.350000   \n",
       "75%             6.400000          3.300000           5.100000   \n",
       "max             7.900000          4.400000           6.900000   \n",
       "\n",
       "       petal width (cm)  \n",
       "count        150.000000  \n",
       "mean           1.199333  \n",
       "std            0.762238  \n",
       "min            0.100000  \n",
       "25%            0.300000  \n",
       "50%            1.300000  \n",
       "75%            1.800000  \n",
       "max            2.500000  "
      ]
     },
     "execution_count": 12,
     "metadata": {},
     "output_type": "execute_result"
    }
   ],
   "source": [
    "df.drop(columns='species').describe()"
   ]
  },
  {
   "cell_type": "markdown",
   "id": "29798568",
   "metadata": {},
   "source": [
    "To enhance this analysis further, it is possible to group the data by the species and compute the same summary statistics for each species separately. This allows to compare the different species' features in more detail:\n"
   ]
  },
  {
   "cell_type": "code",
   "execution_count": 13,
   "id": "e30afd8a",
   "metadata": {},
   "outputs": [
    {
     "name": "stdout",
     "output_type": "stream",
     "text": [
      "species                     setosa  versicolor  virginica\n",
      "sepal length (cm) count  50.000000   50.000000  50.000000\n",
      "                  mean    5.006000    5.936000   6.588000\n",
      "                  std     0.352490    0.516171   0.635880\n",
      "                  min     4.300000    4.900000   4.900000\n",
      "                  25%     4.800000    5.600000   6.225000\n",
      "                  50%     5.000000    5.900000   6.500000\n",
      "                  75%     5.200000    6.300000   6.900000\n",
      "                  max     5.800000    7.000000   7.900000\n",
      "sepal width (cm)  count  50.000000   50.000000  50.000000\n",
      "                  mean    3.428000    2.770000   2.974000\n",
      "                  std     0.379064    0.313798   0.322497\n",
      "                  min     2.300000    2.000000   2.200000\n",
      "                  25%     3.200000    2.525000   2.800000\n",
      "                  50%     3.400000    2.800000   3.000000\n",
      "                  75%     3.675000    3.000000   3.175000\n",
      "                  max     4.400000    3.400000   3.800000\n",
      "petal length (cm) count  50.000000   50.000000  50.000000\n",
      "                  mean    1.462000    4.260000   5.552000\n",
      "                  std     0.173664    0.469911   0.551895\n",
      "                  min     1.000000    3.000000   4.500000\n",
      "                  25%     1.400000    4.000000   5.100000\n",
      "                  50%     1.500000    4.350000   5.550000\n",
      "                  75%     1.575000    4.600000   5.875000\n",
      "                  max     1.900000    5.100000   6.900000\n",
      "petal width (cm)  count  50.000000   50.000000  50.000000\n",
      "                  mean    0.246000    1.326000   2.026000\n",
      "                  std     0.105386    0.197753   0.274650\n",
      "                  min     0.100000    1.000000   1.400000\n",
      "                  25%     0.200000    1.200000   1.800000\n",
      "                  50%     0.200000    1.300000   2.000000\n",
      "                  75%     0.300000    1.500000   2.300000\n",
      "                  max     0.600000    1.800000   2.500000\n"
     ]
    }
   ],
   "source": [
    "grouped = df.groupby('species').describe()\n",
    "transposed_grouped = grouped.T\n",
    "print(transposed_grouped)"
   ]
  },
  {
   "cell_type": "markdown",
   "id": "0479d84f",
   "metadata": {},
   "source": [
    "As the final step in this section, the relationships between the numerical features in the Iris dataset will be analyzed by looking at their correlation.\n",
    "\n",
    "According to widely available information, correlation *\"measures the strength and direction of a relationship between two variables\"* [12] and *\"the closer the coefficient is to either −1 or 1, the stronger the correlation between the variables\"* [13]. Correlations can be classified as: \n",
    "\n",
    "**- Positive:** when both variables move in the same direction, as one increases, the other also increases.  \n",
    "**- Negative:** when both variables move in opposite directions, as one increases, the other decreases.  \n",
    "**- Neutral:** when one variable does not affect the other.  \n",
    "\n",
    "The code below shows how strongly the features in the dataset are related to each other by using the correlation matrix [14]:"
   ]
  },
  {
   "cell_type": "code",
   "execution_count": 14,
   "id": "622d9ddc",
   "metadata": {},
   "outputs": [
    {
     "name": "stdout",
     "output_type": "stream",
     "text": [
      "                   sepal length (cm)  sepal width (cm)  petal length (cm)  \\\n",
      "sepal length (cm)           1.000000         -0.117570           0.871754   \n",
      "sepal width (cm)           -0.117570          1.000000          -0.428440   \n",
      "petal length (cm)           0.871754         -0.428440           1.000000   \n",
      "petal width (cm)            0.817941         -0.366126           0.962865   \n",
      "\n",
      "                   petal width (cm)  \n",
      "sepal length (cm)          0.817941  \n",
      "sepal width (cm)          -0.366126  \n",
      "petal length (cm)          0.962865  \n",
      "petal width (cm)           1.000000  \n"
     ]
    }
   ],
   "source": [
    "# Compute correlation matrix\n",
    "correlation_matrix = df.drop(columns='species').corr()\n",
    "print(correlation_matrix)"
   ]
  },
  {
   "cell_type": "markdown",
   "id": "7cc75c15",
   "metadata": {},
   "source": [
    "\n",
    "---\n"
   ]
  },
  {
   "cell_type": "markdown",
   "id": "91a55e80",
   "metadata": {},
   "source": [
    "### Data Visualization:\n",
    "\n",
    "This section presents different types of charts to help understand the distribution and relationships within the dataset. Histograms show how each feature is distributed across all samples, while scatter plots help visualize patterns and clusters between features. Box plots highlight differences and potential outliers in the measurements across species. Finally, a heatmap is used to display the correlation between numerical features."
   ]
  },
  {
   "cell_type": "markdown",
   "id": "d76165cd",
   "metadata": {},
   "source": [
    "**Histograms:**  \n",
    "Each histogram [15] below shows how the values for one feature are spread across the dataset."
   ]
  },
  {
   "cell_type": "code",
   "execution_count": null,
   "id": "c3288fc8",
   "metadata": {},
   "outputs": [
    {
     "data": {
      "image/png": "[encoded data removed]",
      "text/plain": [
       "<Figure size 600x400 with 1 Axes>"
      ]
     },
     "metadata": {},
     "output_type": "display_data"
    },
    {
     "data": {
      "image/png": "[encoded data removed]",
      "text/plain": [
       "<Figure size 600x400 with 1 Axes>"
      ]
     },
     "metadata": {},
     "output_type": "display_data"
    },
    {
     "data": {
      "image/png": "[encoded data removed]",
      "text/plain": [
       "<Figure size 600x400 with 1 Axes>"
      ]
     },
     "metadata": {},
     "output_type": "display_data"
    },
    {
     "data": {
      "image/png": "[encoded data removed]",
      "text/plain": [
       "<Figure size 600x400 with 1 Axes>"
      ]
     },
     "metadata": {},
     "output_type": "display_data"
    }
   ],
   "source": [
    "# List the features to plot\n",
    "features = ['sepal length (cm)', 'sepal width (cm)', \n",
    "            'petal length (cm)', 'petal width (cm)']\n",
    "\n",
    "# Loop through each feature and create a histogram [16]\n",
    "for feature in features:\n",
    "    plt.figure(figsize=(6, 4))  # Set the size of each plot\n",
    "    \n",
    "    # Plots a histogram\n",
    "    plt.hist(df[feature], bins=15, color='dodgerblue', edgecolor='black')\n",
    "    \n",
    "    # Add a title using the feature name\n",
    "    plt.title(f'Histogram of {feature.title()}')\n",
    "    \n",
    "    # Add a label to the x-axis\n",
    "    plt.xlabel(feature.title())\n",
    "    \n",
    "    # Add a label to the y-axis\n",
    "    plt.ylabel('Frequency')\n",
    "    \n",
    "    # Add gridlines\n",
    "    plt.grid(True)\n",
    "    \n",
    "    # Prevents labels and titles from overlapping\n",
    "    plt.tight_layout()\n",
    "    \n",
    "    # Display the plot\n",
    "    plt.show()\n"
   ]
  },
  {
   "cell_type": "markdown",
   "id": "d7f8dffe",
   "metadata": {},
   "source": [
    "**Scatter Plots:**  \n",
    "Scatter plots are a helpful way to explore relationships between pairs of features. In this case, plotting the lengths and widths of sepals and petals reveals how well the different species are separated based on their measurements. Each species is shown in a different colour to highlight patterns or clusters in the data."
   ]
  },
  {
   "cell_type": "code",
   "execution_count": 25,
   "id": "e39fbc82",
   "metadata": {},
   "outputs": [
    {
     "data": {
      "image/png": "[encoded data removed]",
      "text/plain": [
       "<Figure size 800x600 with 1 Axes>"
      ]
     },
     "metadata": {},
     "output_type": "display_data"
    }
   ],
   "source": [
    "# Define colours for each species using a dictionary\n",
    "colors = {'setosa': 'dodgerblue', 'versicolor': 'darkorange', 'virginica': 'mediumvioletred'}\n",
    "\n",
    "# Scatter Plot: Sepal Length vs Sepal Width\n",
    "plt.figure(figsize=(8, 6)) # Set the figure size\n",
    "\n",
    "# Filter the DataFrame by species\n",
    "for species, color in colors.items():\n",
    "    subset = df[df['species'] == species]\n",
    "\n",
    "# Plot Sepal Length vs Sepal Width for each species\n",
    "    plt.scatter(subset['sepal length (cm)'], subset['sepal width (cm)'],\n",
    "                label=species, color=color)\n",
    "    \n",
    "# Add labels, title, grid, and legend\n",
    "plt.xlabel(\"Sepal Length (cm)\")\n",
    "plt.ylabel(\"Sepal Width (cm)\")\n",
    "plt.title(\"Sepal Length vs Sepal Width\")\n",
    "plt.grid()\n",
    "plt.legend()\n",
    "plt.show() # Display the plot"
   ]
  },
  {
   "cell_type": "code",
   "execution_count": 26,
   "id": "12963f69",
   "metadata": {},
   "outputs": [
    {
     "data": {
      "image/png": "[encoded data removed]",
      "text/plain": [
       "<Figure size 800x600 with 1 Axes>"
      ]
     },
     "metadata": {},
     "output_type": "display_data"
    }
   ],
   "source": [
    "# Scatter Plot: Petal Length vs Petal Width\n",
    "plt.figure(figsize=(8, 6)) # Set the figure size\n",
    "\n",
    "# Filter the DataFrame by species\n",
    "for species, color in colors.items():\n",
    "    subset = df[df['species'] == species]\n",
    "\n",
    "# Plot Petal Length vs Petal Width for each species\n",
    "    plt.scatter(subset['petal length (cm)'], subset['petal width (cm)'],\n",
    "                label=species, color=color)\n",
    "    \n",
    "# Add labels, title, grid, and legend\n",
    "plt.xlabel(\"Petal Length (cm)\")\n",
    "plt.ylabel(\"Petal Width (cm)\")\n",
    "plt.title(\"Petal Length vs Petal Width\")\n",
    "plt.grid()\n",
    "plt.legend()\n",
    "plt.show() # Display the plot"
   ]
  },
  {
   "cell_type": "markdown",
   "id": "670ac1ea",
   "metadata": {},
   "source": [
    "\n",
    "---  "
   ]
  },
  {
   "cell_type": "markdown",
   "id": "9a2f3fa4",
   "metadata": {},
   "source": [
    "### References:  \n",
    "[1] Image, credits: medium.com. Available in: https://3tw.medium.com/scikit-learn-the-iris-dataset-and-machine-learning-the-journey-to-a-new-skill-c8d2f537e087. [Accessed 06 May 2025] \n",
    "\n",
    "[2] R. Fisher. Iris, UCI Machine Learning Repository, 1936. Available in: https://doi.org/10.24432/C56C76. [Accessed 04 May 2025]  \n",
    "\n",
    "[3] Kelleher, Curran. The Iris Dataset Explained. Available in: https://gist.github.com/curran/a08a1080b88344b0c8a7. [Accessed 05 May 2025]  \n",
    "\n",
    "[4] Iris Flower data set - Wikipedia. Available in: https://en.wikipedia.org/wiki/Iris_flower_data_set. [Accessed 06 May 2025]  \n",
    "\n",
    "[5] pandas. Available in: https://pandas.pydata.org/. [Accessed 08 May 2025]  \n",
    "\n",
    "[6] NumPy. Available in: https://numpy.org/. [Accessed 08 May 2025]  \n",
    "\n",
    "[7] Matplotlib. Available in: https://matplotlib.org/. [Accessed 08 May 2025]  \n",
    "\n",
    "[8] scikit-learn. Available in: https://scikit-learn.org/stable/. [Accessed 06 May 2025]  \n",
    "\n",
    "[9] Python - Slicing Strings. Available in: https://www.w3schools.com/python/python_strings_slicing.asp. [Accessed 02 Mar 2025]  \n",
    "\n",
    "[10] Concept of dataframes. Available in: https://chatgpt.com/share/680106b3-f308-8007-b590-e54e5784049b. [Accessed 14 Mar 2025]  \n",
    "\n",
    "[11] Excluding a column from a DataFrame. Available in: https://chatgpt.com/share/6820aac2-2a04-8007-a03f-d6298dee5674. [Accessed 11 May 2025]  \n",
    "\n",
    "[12] Correlation in Statistics. Available in: https://chatgpt.com/share/6820cb72-e3b8-8007-8eda-509cb9c721c5. [Accessed 11 May 2025]  \n",
    "\n",
    "[13] Correlation. Available in: https://en.wikipedia.org/wiki/Correlation. [Accessed 11 May 2025]  \n",
    "\n",
    "[14] Correlation Matrix. Available in: https://chatgpt.com/share/6820d5be-0da0-8007-84e3-01525bf5afd5. [Accessed 11 May 2025]    \n",
    "\n",
    "[15] Histogram documentation. Available in: https://matplotlib.org/stable/api/_as_gen/matplotlib.pyplot.hist.html. [Accessed 09 May 2025]  \n",
    "\n",
    "[16] Plotting histograms. Available in: https://chatgpt.com/share/6820ea12-e104-8007-831f-db480af667de. [Accessed 09 May 2025]  \n",
    "\n",
    "---  "
   ]
  },
  {
   "cell_type": "markdown",
   "id": "ff51b485",
   "metadata": {},
   "source": [
    "## End\n",
    "\n",
    "---  "
   ]
  }
 ],
 "metadata": {
  "kernelspec": {
   "display_name": "Python 3",
   "language": "python",
   "name": "python3"
  },
  "language_info": {
   "codemirror_mode": {
    "name": "ipython",
    "version": 3
   },
   "file_extension": ".py",
   "mimetype": "text/x-python",
   "name": "python",
   "nbconvert_exporter": "python",
   "pygments_lexer": "ipython3",
   "version": "3.12.1"
  }
 },
 "nbformat": 4,
 "nbformat_minor": 5
}
