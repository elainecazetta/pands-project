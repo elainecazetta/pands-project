{
 "cells": [
  {
   "cell_type": "markdown",
   "id": "b0778d29",
   "metadata": {},
   "source": [
    "# Higher Diploma in Science in Computing (Data Analytics)\n",
    "\n",
    "**Module:** Programming and Scripting  \n",
    "**Lecturer:** Andrew Beatty  \n",
    "**Author:** Elaine R. Cazetta"
   ]
  },
  {
   "cell_type": "markdown",
   "id": "1e97743b",
   "metadata": {},
   "source": [
    "## Project: Iris Dataset Analysis\n",
    "\n",
    "![Iris Flowers](https://github.com/elainecazetta/private_folder/blob/main/Iris_Flower.png)"
   ]
  },
  {
   "cell_type": "markdown",
   "id": "5ad2de7a",
   "metadata": {},
   "source": [
    "### About the project: "
   ]
  },
  {
   "cell_type": "markdown",
   "id": "6832ab27",
   "metadata": {},
   "source": [
    "### About the dataset:"
   ]
  },
  {
   "cell_type": "markdown",
   "id": "48999545",
   "metadata": {},
   "source": [
    "### Libraries:"
   ]
  },
  {
   "cell_type": "markdown",
   "id": "7b084e36",
   "metadata": {},
   "source": [
    "### Loading the dataset:"
   ]
  },
  {
   "cell_type": "markdown",
   "id": "9f4f07ed",
   "metadata": {},
   "source": [
    "### Analyzing the dataset:"
   ]
  },
  {
   "cell_type": "markdown",
   "id": "9a2f3fa4",
   "metadata": {},
   "source": []
  }
 ],
 "metadata": {
  "language_info": {
   "name": "python"
  }
 },
 "nbformat": 4,
 "nbformat_minor": 5
}
